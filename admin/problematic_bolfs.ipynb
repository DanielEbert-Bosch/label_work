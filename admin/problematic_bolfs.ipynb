{
 "cells": [
  {
   "cell_type": "code",
   "execution_count": 5,
   "metadata": {},
   "outputs": [],
   "source": [
    "import os"
   ]
  },
  {
   "cell_type": "code",
   "execution_count": 1,
   "metadata": {},
   "outputs": [],
   "source": [
    "import json\n",
    "with open(\"req_set_labeled.json\") as f:\n",
    "    req_set_labeled = json.loads(f.read())"
   ]
  },
  {
   "cell_type": "code",
   "execution_count": 7,
   "metadata": {},
   "outputs": [],
   "source": [
    "def bolf_url_to_path(url: str):\n",
    "    qua_url = 'https://dypersiaqua.blob.core.windows.net/'\n",
    "    dev_url = 'https://dypersiadev.blob.core.windows.net/'\n",
    "\n",
    "    qua_path = '/home/jovyan/data/ReadOnly/dypersiaqua/'\n",
    "    dev_path = '/home/jovyan/data/ReadOnly/dypersiadev/'\n",
    "\n",
    "    for blob_url, blob_path in [(qua_url, qua_path), (dev_url, dev_path)]:\n",
    "        if url.startswith(blob_url):\n",
    "            return blob_path + url[len(blob_url):]\n",
    "    \n",
    "    raise Exception('Unknown url path', url)\n",
    "\n",
    "bolf_paths = [bolf_url_to_path(seq['label_bolf_path']) for seq in req_set_labeled]"
   ]
  },
  {
   "cell_type": "code",
   "execution_count": 9,
   "metadata": {},
   "outputs": [
    {
     "name": "stdout",
     "output_type": "stream",
     "text": [
      "/home/jovyan/data/ReadOnly/dypersiadev/nrcs-2-pf/cb782241ca45ae08e456f9d3509722be3daa5a979bbd3d3a4e85956b86e01bd9/processed_lidar/2025_02_24_10_41_13/cb782241ca45ae08e456f9d3509722be3daa5a979bbd3d3a4e85956b86e01bd9_say2bp_say2bp_2025_02_24_10_41_13.json\n",
      "/home/jovyan/data/ReadOnly/dypersiadev/nrcs-2-pf/4747dc67793d9c34741e03cf74aa70521139c8c6824c4d89bac8640405d21de7/processed_lidar/2025_02_24_07_18_44/4747dc67793d9c34741e03cf74aa70521139c8c6824c4d89bac8640405d21de7_MES7BP_MES7BP_2025_02_24_07_18_44.json\n",
      "/home/jovyan/data/ReadOnly/dypersiadev/nrcs-2-pf/db13c2baceb852fd246f45305940642f3ec17d93d43ec86739ebc1291fb4d7d2/processed_lidar/2025_02_25_09_38_45/db13c2baceb852fd246f45305940642f3ec17d93d43ec86739ebc1291fb4d7d2_ker6bp_ker6bp_2025_02_25_09_38_45.json\n",
      "/home/jovyan/data/ReadOnly/dypersiadev/nrcs-2-pf/34e43fb6ff2d00f30e9a384a5bb461a66144742ff7c4c263d8c6dbe1550e47e0/processed_lidar/2025_02_24_16_56_50/34e43fb6ff2d00f30e9a384a5bb461a66144742ff7c4c263d8c6dbe1550e47e0_loc1bp_loc1bp_2025_02_24_16_56_50.json\n",
      "/home/jovyan/data/ReadOnly/dypersiadev/nrcs-2-pf/b15820d2eda1202cbe4189661374dd2f05dda9d0869f6ccd0b9045437a3e58d9/processed_lidar/2025_02_25_09_25_02/b15820d2eda1202cbe4189661374dd2f05dda9d0869f6ccd0b9045437a3e58d9_vrb2bp_vrb2bp_2025_02_25_09_25_02.json\n",
      "/home/jovyan/data/ReadOnly/dypersiadev/nrcs-2-pf/edb51620ccf9010a42ab998fe4e76c5c3de05be957a9da5fa13972f789a30e33/processed_lidar/2025_02_24_16_01_16/edb51620ccf9010a42ab998fe4e76c5c3de05be957a9da5fa13972f789a30e33_vrb2bp_vrb2bp_2025_02_24_16_01_16.json\n",
      "/home/jovyan/data/ReadOnly/dypersiadev/nrcs-2-pf/e0db10f0e3cbc530aaa461f7397148c110219daa50162e19eb884c7543c3c04b/processed_lidar/2025_02_24_09_13_01/e0db10f0e3cbc530aaa461f7397148c110219daa50162e19eb884c7543c3c04b_imv2bp_imv2bp_2025_02_24_09_13_01.json\n",
      "/home/jovyan/data/ReadOnly/dypersiadev/nrcs-2-pf/dfae938e9c5f3b531502a8e5456d70d929c2c1ae0712ee9a7c523dea82cc4e5f/processed_lidar/2025_02_24_16_32_13/dfae938e9c5f3b531502a8e5456d70d929c2c1ae0712ee9a7c523dea82cc4e5f_vrb2bp_vrb2bp_2025_02_24_16_32_13.json\n",
      "/home/jovyan/data/ReadOnly/dypersiadev/nrcs-2-pf/9abf4d44733a51a6d558e3e32efa1f5f74823b50c5bc6ee4261273a641023e00/processed_lidar/2025_02_24_09_08_16/9abf4d44733a51a6d558e3e32efa1f5f74823b50c5bc6ee4261273a641023e00_nac4bp_nac4bp_2025_02_24_09_08_16.json\n",
      "/home/jovyan/data/ReadOnly/dypersiadev/nrcs-2-pf/a3e9619811d5cdf4212064b2d273a7e5a485b290b4b0ae02ad4408521d2d5c34/processed_lidar/2025_02_24_19_50_09/a3e9619811d5cdf4212064b2d273a7e5a485b290b4b0ae02ad4408521d2d5c34_MES7BP_MES7BP_2025_02_24_19_50_09.json\n"
     ]
    }
   ],
   "source": [
    "single_frame_paths = []\n",
    "\n",
    "for path in bolf_paths:\n",
    "    with open(path) as f:\n",
    "        bolf = json.loads(f.read())\n",
    "    \n",
    "    if len(bolf['openlabel']['frames']) <= 1:\n",
    "        single_frame_paths.append(path)\n",
    "        print(path)"
   ]
  },
  {
   "cell_type": "code",
   "execution_count": 11,
   "metadata": {},
   "outputs": [
    {
     "name": "stdout",
     "output_type": "stream",
     "text": [
      "8774\n",
      "10\n"
     ]
    }
   ],
   "source": [
    "print(len(bolf_paths))\n",
    "print(len(single_frame_paths))"
   ]
  }
 ],
 "metadata": {
  "kernelspec": {
   "display_name": "Python 3 (ipykernel)",
   "language": "python",
   "name": "python3"
  },
  "language_info": {
   "codemirror_mode": {
    "name": "ipython",
    "version": 3
   },
   "file_extension": ".py",
   "mimetype": "text/x-python",
   "name": "python",
   "nbconvert_exporter": "python",
   "pygments_lexer": "ipython3",
   "version": "3.11.6"
  }
 },
 "nbformat": 4,
 "nbformat_minor": 2
}
