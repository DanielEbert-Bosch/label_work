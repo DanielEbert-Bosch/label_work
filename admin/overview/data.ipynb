{
 "cells": [
  {
   "cell_type": "code",
   "execution_count": 113,
   "metadata": {},
   "outputs": [],
   "source": [
    "import json"
   ]
  },
  {
   "cell_type": "code",
   "execution_count": 114,
   "metadata": {},
   "outputs": [],
   "source": [
    "with open('data_seq_ids.json') as f:\n",
    "    data = {k: set(v) for k, v in json.loads(f.read()).items()}\n"
   ]
  },
  {
   "cell_type": "code",
   "execution_count": 115,
   "metadata": {},
   "outputs": [
    {
     "name": "stdout",
     "output_type": "stream",
     "text": [
      "dict_keys(['bs + pcap + meta', 'Missing Pcap', 'Missing Bytesoup', 'Missing FMC Metadata', 'Missing FMC Previewvideo', 'FMC Sequence Blacklisted', 'pcd + sia mp4 & meta', 'Missing Sia Previewvideo', 'Missing Lidarvideo', 'Missing Sia Metadata', 'Missing Lidar PCD', 'Labeled', 'Not Labeled', 'Opened Pending', 'Label Blacklisted', 'Bolf FMC Linked', 'Bolf FMC Unlinked'])\n"
     ]
    }
   ],
   "source": [
    "print(data.keys())"
   ]
  },
  {
   "cell_type": "code",
   "execution_count": 126,
   "metadata": {},
   "outputs": [
    {
     "name": "stdout",
     "output_type": "stream",
     "text": [
      "{384513, 419331, 419332, 419846, 412679, 419338, 419347, 419349, 419353, 384026, 419355, 419869, 419360, 419362, 419363, 419365, 419366, 419367, 419369, 419370, 419371, 419372, 419374, 419375, 386097, 419377, 384051, 419378, 419380, 383540, 419383, 419379, 419385, 419386, 408125, 419392, 419394, 419395, 419399, 408136, 419400, 419405, 419406, 419407, 419409, 419410, 419413, 419416, 419418, 419421, 419422, 419425, 419426, 419427, 419430, 419431, 419436, 419437, 419443, 415349, 419447, 419451, 419454, 419460, 419461, 387205, 419463, 419464, 419466, 419468, 419469, 419470, 419471, 419472, 419474, 419476, 419477, 373399, 407704, 419479, 419480, 419483, 419484, 419488, 419489, 418468, 418469, 419492, 419494, 418479, 423599, 419506, 419507, 419510, 387254, 418489, 419513, 419517, 386240, 419520, 418502, 419526, 384714, 418507, 419535, 418512, 418516, 419541, 418518, 419546, 418523, 419549, 418529, 419554, 419555, 418536, 419060, 419064, 419066, 419068, 419069, 423676, 419078, 419321, 384783, 419089, 419091, 419092, 419603, 419095, 408349, 419111, 411947, 419122, 419125, 419126, 419127, 386360, 419643, 419132, 419134, 419137, 419144, 419145, 419147, 419150, 411984, 419153, 419154, 388440, 419161, 419162, 419164, 419171, 419172, 419173, 419179, 384364, 419692, 419184, 419696, 419188, 419189, 419192, 419707, 419708, 419203, 412554, 419736, 419741, 407967, 419231, 419234, 419240, 413100, 419758, 407986, 419253, 419766, 419255, 414145, 419265, 419276, 383948, 419792, 419281, 419295, 419296, 386019, 419300, 419301, 412646, 423912, 419305, 419818, 419308, 419309, 419311, 419317, 419320, 419833, 419322, 419323}\n",
      "True bs + pcap + meta\n",
      "False Missing Pcap\n",
      "False Missing Bytesoup\n",
      "False Missing FMC Metadata\n",
      "False Missing FMC Previewvideo\n",
      "False FMC Sequence Blacklisted\n",
      "True pcd + sia mp4 & meta\n",
      "False Missing Sia Previewvideo\n",
      "False Missing Lidarvideo\n",
      "False Missing Sia Metadata\n",
      "False Missing Lidar PCD\n",
      "True Labeled\n",
      "False Not Labeled\n",
      "False Opened Pending\n",
      "True Label Blacklisted\n",
      "False Bolf FMC Linked\n",
      "False Bolf FMC Unlinked\n"
     ]
    }
   ],
   "source": [
    "stage1keys = ['bs + pcap + meta', 'Missing Pcap', 'Missing FMC Metadata', 'FMC Sequence Blacklisted', 'Missing Bytesoup']\n",
    "stage1 = set().union(*[data[k] for k in stage1keys])\n",
    "\n",
    "stage2keys = ['pcd + sia mp4 & meta', 'Missing Lidar PCD', 'Missing Sia Metadata', 'Missing Sia Previewvideo', 'Missing Lidarvideo', 'Missing FMC Previewvideo']\n",
    "stage2 = set().union(*[data[k] for k in stage2keys])\n",
    "\n",
    "stage3keys = ['Labeled', 'Not Labeled', 'Opened Pending', 'Label Blacklisted']\n",
    "stage3 = set().union(*[data[k] for k in stage3keys])\n",
    "\n",
    "stage4keys = ['Bolf FMC Linked', 'Bolf FMC Unlinked']\n",
    "stage4 = set().union(*[data[k] for k in stage4keys])\n",
    "\n",
    "stage1_blacklist_keys = list(set(stage1keys) - set(['bs + pcap + meta']))\n",
    "stage1_blacklist = set().union(*[data[k] for k in stage1_blacklist_keys])\n",
    "stage2_blacklist_keys = list(set(stage2keys) - set(['pcd + sia mp4 & meta']))\n",
    "stage2_blacklist = set().union(*[data[k] for k in stage2_blacklist_keys])\n",
    "stage3_blacklist_keys = list(set(stage3keys) - set(['Labeled']))\n",
    "stage3_blacklist = set().union(*[data[k] for k in stage3_blacklist_keys])\n",
    "\n",
    "print(data['Labeled'] - stage4)\n",
    "\n",
    "for k in data.keys():\n",
    "    print(384513 in data[k], k)\n",
    "\n",
    "#print(1826 + 271 + 115)\n",
    "\n",
    "#len(data['bs + pcap + meta'] - data['pcd + sia mp4 & meta'])"
   ]
  }
 ],
 "metadata": {
  "kernelspec": {
   "display_name": "venv",
   "language": "python",
   "name": "python3"
  },
  "language_info": {
   "codemirror_mode": {
    "name": "ipython",
    "version": 3
   },
   "file_extension": ".py",
   "mimetype": "text/x-python",
   "name": "python",
   "nbconvert_exporter": "python",
   "pygments_lexer": "ipython3",
   "version": "3.11.10"
  }
 },
 "nbformat": 4,
 "nbformat_minor": 2
}
