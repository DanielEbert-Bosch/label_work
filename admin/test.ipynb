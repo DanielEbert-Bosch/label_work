{
 "cells": [
  {
   "cell_type": "code",
   "execution_count": 12,
   "metadata": {},
   "outputs": [
    {
     "name": "stdout",
     "output_type": "stream",
     "text": [
      "Requirement already satisfied: azure-identity in /opt/conda/lib/python3.11/site-packages (1.20.0)\n",
      "Requirement already satisfied: azure-core>=1.31.0 in /opt/conda/lib/python3.11/site-packages (from azure-identity) (1.32.0)\n",
      "Requirement already satisfied: cryptography>=2.5 in /opt/conda/lib/python3.11/site-packages (from azure-identity) (41.0.4)\n",
      "Requirement already satisfied: msal>=1.30.0 in /opt/conda/lib/python3.11/site-packages (from azure-identity) (1.31.1)\n",
      "Requirement already satisfied: msal-extensions>=1.2.0 in /opt/conda/lib/python3.11/site-packages (from azure-identity) (1.2.0)\n",
      "Requirement already satisfied: typing-extensions>=4.0.0 in /opt/conda/lib/python3.11/site-packages (from azure-identity) (4.8.0)\n",
      "Requirement already satisfied: requests>=2.21.0 in /opt/conda/lib/python3.11/site-packages (from azure-core>=1.31.0->azure-identity) (2.31.0)\n",
      "Requirement already satisfied: six>=1.11.0 in /opt/conda/lib/python3.11/site-packages (from azure-core>=1.31.0->azure-identity) (1.16.0)\n",
      "Requirement already satisfied: cffi>=1.12 in /opt/conda/lib/python3.11/site-packages (from cryptography>=2.5->azure-identity) (1.16.0)\n",
      "Requirement already satisfied: PyJWT<3,>=1.0.0 in /opt/conda/lib/python3.11/site-packages (from PyJWT[crypto]<3,>=1.0.0->msal>=1.30.0->azure-identity) (2.8.0)\n",
      "Requirement already satisfied: portalocker<3,>=1.4 in /opt/conda/lib/python3.11/site-packages (from msal-extensions>=1.2.0->azure-identity) (2.10.1)\n",
      "Requirement already satisfied: pycparser in /opt/conda/lib/python3.11/site-packages (from cffi>=1.12->cryptography>=2.5->azure-identity) (2.21)\n",
      "Requirement already satisfied: charset-normalizer<4,>=2 in /opt/conda/lib/python3.11/site-packages (from requests>=2.21.0->azure-core>=1.31.0->azure-identity) (3.3.0)\n",
      "Requirement already satisfied: idna<4,>=2.5 in /opt/conda/lib/python3.11/site-packages (from requests>=2.21.0->azure-core>=1.31.0->azure-identity) (3.4)\n",
      "Requirement already satisfied: urllib3<3,>=1.21.1 in /opt/conda/lib/python3.11/site-packages (from requests>=2.21.0->azure-core>=1.31.0->azure-identity) (2.0.7)\n",
      "Requirement already satisfied: certifi>=2017.4.17 in /opt/conda/lib/python3.11/site-packages (from requests>=2.21.0->azure-core>=1.31.0->azure-identity) (2023.7.22)\n"
     ]
    }
   ],
   "source": [
    "!pip install azure-identity"
   ]
  },
  {
   "cell_type": "code",
   "execution_count": 13,
   "metadata": {},
   "outputs": [],
   "source": [
    "from azure.identity import AzureCliCredential\n",
    "from azure.core.credentials import TokenCredential, AccessToken\n",
    "from requests import get\n",
    "import time\n",
    "import logging\n",
    "logger = logging.getLogger(__name__)\n",
    "\n",
    "def calc_time(string):\n",
    "    global start_time\n",
    "\n",
    "    if string == \"start\":\n",
    "        start_time = time.time()\n",
    "    else:\n",
    "        end_time = time.time()\n",
    "        return  end_time - start_time\n",
    "\n",
    "\n",
    "class CachedCredential(TokenCredential):\n",
    "  def __init__(self, delegate: TokenCredential, logger) -> None:\n",
    "    self.delegate = delegate\n",
    "    self.logger = logger\n",
    "    self._token : dict[str, AccessToken] = {}\n",
    "\n",
    "  def get_token(self, scope: str, **kwargs) -> AccessToken:\n",
    "    token = self._token.get(scope)\n",
    "    if not token or token.expiry < time.time():\n",
    "      calc_time(\"start\")\n",
    "      self._token[scope] = token = self.delegate.get_token(scope, **kwargs)\n",
    "      elapsed_time = calc_time(\"end\")\n",
    "      self.logger.info(\n",
    "            f\"Time taken to generate token(CachedCredential) is {elapsed_time:.2f} seconds.\"\n",
    "        )\n",
    "    else:\n",
    "        self.logger.info(\n",
    "            f\"Valid token exists\"\n",
    "        )\n",
    "    return token\n",
    "\n",
    "\n",
    "cachedCredential = CachedCredential(AzureCliCredential(), logger)\n",
    "\n",
    "def request_fmc_token(organization_name, stage='prod'):\n",
    "    \"\"\"\n",
    "    Get fmc token via AzureCliCredential. (Requires az login beforehand).\n",
    "\n",
    "    organization_name e.g. nrcs-2-pf, ford-dat-3, uss-gen-6-pf\n",
    "    \"\"\"\n",
    "    return cachedCredential.get_token(f'api://api-data-loop-platform-{organization_name}-{stage}/.default').token\n",
    "\n",
    "\n",
    "def get_sequence(sequence_id, organization_name, fmc_token):\n",
    "    \"\"\"\n",
    "    Does get sequence Rest call for sequence_id. Returns sequence.\n",
    "    \"\"\"\n",
    "    fmc_headers = {\n",
    "        'Cache-Control': 'no-cache',\n",
    "        'Authorization': f'Bearer {fmc_token}',\n",
    "        'Origin': 'https://developer.bosch-data-loop.com'\n",
    "    }\n",
    "    url = f'https://api.azr.bosch-data-loop.com/measurement-data-processing/v3/organizations/{organization_name}/sequence/{sequence_id}'\n",
    "    response = get(url, headers=fmc_headers)\n",
    "    if response.status_code == 200:\n",
    "        sequence = response.json()\n",
    "        return sequence\n",
    "    else:\n",
    "        logger.error(f'Get sequence call to FMC failed. status_code: {response.status_code}, reason: {response.reason}, url: {url}')\n",
    "        return None\n",
    "\n",
    "\n",
    "def get_sequences(fmc_query, organization_name, fmc_token):\n",
    "    \"\"\"\n",
    "    Does get sequences Rest call for fmc query. Returns list of sequences.\n",
    "    \"\"\"\n",
    "    fmc_headers = {\n",
    "        'Cache-Control': 'no-cache',\n",
    "        'Authorization': f'Bearer {fmc_token}',\n",
    "        'Origin': 'https://developer.bosch-data-loop.com'\n",
    "    }\n",
    "\n",
    "    sequences = []\n",
    "\n",
    "    items_per_page = 1000\n",
    "\n",
    "    is_there_more_sequences = True\n",
    "    page_index = 0\n",
    "    while is_there_more_sequences:\n",
    "        url = f'https://api.azr.bosch-data-loop.com/measurement-data-processing/v3/organizations/{organization_name}/sequence?itemsPerPage={items_per_page}&pageIndex={page_index}&filterQuery={fmc_query}'  # noqa: E501\n",
    "        response = get(url, headers=fmc_headers)\n",
    "        if response.status_code == 200:\n",
    "            response_sequences = response.json()\n",
    "            sequences.extend(response_sequences)\n",
    "            if len(response_sequences) < items_per_page:\n",
    "                is_there_more_sequences = False\n",
    "        else:\n",
    "            logger.error(f'Get sequences call to FMC failed. status_code: {response.status_code}, reason: {response.reason}, url: {url}')\n",
    "            is_there_more_sequences = False\n",
    "        page_index += 1\n",
    "        print(f'FMC query at {page_index=}')\n",
    "\n",
    "    return sequences\n"
   ]
  },
  {
   "cell_type": "code",
   "execution_count": 14,
   "metadata": {},
   "outputs": [
    {
     "name": "stdout",
     "output_type": "stream",
     "text": [
      "FMC query at page_index=1\n",
      "FMC query at page_index=2\n",
      "FMC query at page_index=3\n",
      "FMC query at page_index=4\n"
     ]
    }
   ],
   "source": [
    "organization_name = 'nrcs-2-pf'\n",
    "fmc_token = request_fmc_token(organization_name)\n",
    "fmc_query = 'Car.licensePlate = \"LBXQ6155\" and Sequence.recordingDate > \"2025-02-09\" and ReferenceFile.type = \"PCAP\" and ReferenceFile.type = \"JSON_METADATA\"'\n",
    "fmc_sequences = get_sequences(fmc_query, organization_name, fmc_token)\n"
   ]
  },
  {
   "cell_type": "code",
   "execution_count": 15,
   "metadata": {},
   "outputs": [],
   "source": [
    "from glob import glob\n",
    "\n",
    "dyperexprod_dir = '/home/jovyan/data/ReadOnly/dyperexprod/nrcs-2-pf'\n",
    "\n",
    "checksum_to_fmc_id = {}\n",
    "for sequence in fmc_sequences:\n",
    "    checksum = None\n",
    "    for meas_file in sequence['measurementFiles']:\n",
    "        if 'bytesoup' in meas_file['path']:\n",
    "            checksum = meas_file['checksum']\n",
    "\n",
    "    if checksum is not None:\n",
    "        checksum_to_fmc_id[checksum] = sequence['id']\n",
    "\n",
    "from concurrent.futures import ProcessPoolExecutor\n",
    "\n",
    "def process_item(item):\n",
    "    checksum, fmc_id = item\n",
    "    mp4_files = glob(f'{dyperexprod_dir}/{checksum}/**/*preview.mp4', recursive=True)\n",
    "    jpg_files = glob(f'{dyperexprod_dir}/{checksum}/**/*preview.jpg', recursive=True)\n",
    "    return fmc_id, (mp4_files, jpg_files)\n",
    "\n",
    "with ProcessPoolExecutor() as executor:\n",
    "    id_to_preview = dict(executor.map(process_item, checksum_to_fmc_id.items()))"
   ]
  },
  {
   "cell_type": "code",
   "execution_count": 16,
   "metadata": {},
   "outputs": [],
   "source": [
    "import json\n",
    "out_nrcs = {}\n",
    "local_prefix_len = len('/home/jovyan/data/ReadOnly/dyperexprod')\n",
    "\n",
    "for fmc_id, (mp4_files, jpg_files) in id_to_preview.items():\n",
    "    if not mp4_files or not jpg_files:\n",
    "        continue\n",
    "\n",
    "    out_nrcs[fmc_id] = {\n",
    "        'video_path': 'https://dyperexprod.blob.core.windows.net/' + mp4_files[-1][local_prefix_len:],\n",
    "        'image_path': 'https://dyperexprod.blob.core.windows.net/' + jpg_files[-1][local_prefix_len:]\n",
    "    }\n",
    "\n",
    "out = {\n",
    "    'nrcs-2-pf': out_nrcs\n",
    "}\n",
    "\n",
    "with open('preview_mp4_and_jpg.json', 'w') as f:\n",
    "    f.write(json.dumps(out))"
   ]
  },
  {
   "cell_type": "code",
   "execution_count": 17,
   "metadata": {},
   "outputs": [
    {
     "name": "stdout",
     "output_type": "stream",
     "text": [
      "Sequence.id in [\"nrcs-2-pf\"]\n"
     ]
    }
   ],
   "source": [
    "def chunk_array(arr, x):\n",
    "    return [arr[i:i + x] for i in range(0, len(arr), x)]\n",
    "\n",
    "fmc_ids = list(str(i) for i in out.keys())\n",
    "for fmc_ids_chunk in chunk_array(fmc_ids, 1000):\n",
    "    fmc_ids_str = '\",\"'.join(fmc_ids_chunk)\n",
    "    fmc_query = f'Sequence.id in [\"{fmc_ids_str}\"]'\n",
    "    print(fmc_query)"
   ]
  },
  {
   "cell_type": "code",
   "execution_count": 18,
   "metadata": {},
   "outputs": [
    {
     "data": {
      "text/plain": [
       "2535"
      ]
     },
     "execution_count": 18,
     "metadata": {},
     "output_type": "execute_result"
    }
   ],
   "source": [
    "len(out['nrcs-2-pf'])"
   ]
  },
  {
   "cell_type": "code",
   "execution_count": 19,
   "metadata": {},
   "outputs": [
    {
     "data": {
      "text/plain": [
       "'nrcs-2-pf'"
      ]
     },
     "execution_count": 19,
     "metadata": {},
     "output_type": "execute_result"
    }
   ],
   "source": [
    "' '.join(fmc_ids)"
   ]
  }
 ],
 "metadata": {
  "kernelspec": {
   "display_name": "Python 3 (ipykernel)",
   "language": "python",
   "name": "python3"
  }
 },
 "nbformat": 4,
 "nbformat_minor": 2
}
